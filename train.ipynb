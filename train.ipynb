{
 "cells": [
  {
   "metadata": {
    "ExecuteTime": {
     "end_time": "2025-09-17T08:27:46.518679Z",
     "start_time": "2025-09-17T08:27:43.871464Z"
    }
   },
   "cell_type": "code",
   "source": [
    "%load_ext autoreload\n",
    "%autoreload 2"
   ],
   "id": "142b4be12b5356e1",
   "outputs": [
    {
     "data": {
      "text/plain": [
       "Fetching 0 files: 0it [00:00, ?it/s]"
      ],
      "application/vnd.jupyter.widget-view+json": {
       "version_major": 2,
       "version_minor": 0,
       "model_id": "6d54aa0407434b0a90e0f3170ede7676"
      }
     },
     "metadata": {},
     "output_type": "display_data",
     "jetTransient": {
      "display_id": null
     }
    },
    {
     "data": {
      "text/plain": [
       "Fetching 1 files:   0%|          | 0/1 [00:00<?, ?it/s]"
      ],
      "application/vnd.jupyter.widget-view+json": {
       "version_major": 2,
       "version_minor": 0,
       "model_id": "a867d9902f814538b49152556fa0ed4d"
      }
     },
     "metadata": {},
     "output_type": "display_data",
     "jetTransient": {
      "display_id": null
     }
    },
    {
     "data": {
      "text/plain": [
       "Fetching 1 files:   0%|          | 0/1 [00:00<?, ?it/s]"
      ],
      "application/vnd.jupyter.widget-view+json": {
       "version_major": 2,
       "version_minor": 0,
       "model_id": "0cc27564a6154028be9f72fb5029d8c0"
      }
     },
     "metadata": {},
     "output_type": "display_data",
     "jetTransient": {
      "display_id": null
     }
    },
    {
     "name": "stdout",
     "output_type": "stream",
     "text": [
      "The autoreload extension is already loaded. To reload it, use:\n",
      "  %reload_ext autoreload\n"
     ]
    }
   ],
   "execution_count": 14
  },
  {
   "metadata": {
    "ExecuteTime": {
     "end_time": "2025-09-17T08:27:46.545381Z",
     "start_time": "2025-09-17T08:27:46.523120Z"
    }
   },
   "cell_type": "code",
   "source": [
    "import src.data\n",
    "import lib.transformations\n",
    "\n",
    "from train import get_trainer, get_inference_data_loader"
   ],
   "id": "347a99f796fcc797",
   "outputs": [],
   "execution_count": 15
  },
  {
   "metadata": {
    "ExecuteTime": {
     "end_time": "2025-09-17T09:28:54.644822Z",
     "start_time": "2025-09-17T09:28:53.365822Z"
    }
   },
   "cell_type": "code",
   "source": "trainer=get_trainer(use_best_model=True)",
   "id": "6367f17d9d35699c",
   "outputs": [],
   "execution_count": 22
  },
  {
   "metadata": {
    "ExecuteTime": {
     "end_time": "2025-09-17T08:28:25.847511Z",
     "start_time": "2025-09-17T08:28:09.998587Z"
    }
   },
   "cell_type": "code",
   "source": "trainer.training.predict_proba(get_inference_data_loader(src.data.x_eval['filepath'])).value_as_df(src.data.species_labels)",
   "id": "6dddf9752184d509",
   "outputs": [
    {
     "name": "stderr",
     "output_type": "stream",
     "text": [
      "Predicting: 100%|██████████| 104/104 [00:15<00:00,  6.64it/s]\n"
     ]
    },
    {
     "data": {
      "text/plain": [
       "          antelope_duiker      bird     blank  civet_genet       hog  \\\n",
       "ZJ000000         0.261158  0.034052  0.443189     0.039167  0.026025   \n",
       "ZJ000006         0.011377  0.014762  0.021736     0.900344  0.009749   \n",
       "ZJ000011         0.179968  0.045587  0.527683     0.030746  0.046293   \n",
       "ZJ000023         0.022834  0.016150  0.039262     0.053575  0.020686   \n",
       "ZJ000024         0.039760  0.121406  0.706271     0.017395  0.005422   \n",
       "...                   ...       ...       ...          ...       ...   \n",
       "ZJ016461         0.897836  0.014940  0.013612     0.013020  0.015327   \n",
       "ZJ016462         0.149489  0.047808  0.498015     0.027510  0.071894   \n",
       "ZJ016473         0.010391  0.019615  0.042147     0.818143  0.012790   \n",
       "ZJ016475         0.012378  0.096607  0.090409     0.013672  0.036207   \n",
       "ZJ016484         0.015520  0.014627  0.026267     0.016046  0.009653   \n",
       "\n",
       "           leopard  monkey_prosimian    rodent  \n",
       "ZJ000000  0.011167          0.171751  0.013491  \n",
       "ZJ000006  0.007997          0.015474  0.018561  \n",
       "ZJ000011  0.026160          0.023071  0.120493  \n",
       "ZJ000023  0.803626          0.016281  0.027587  \n",
       "ZJ000024  0.009879          0.066069  0.033798  \n",
       "...            ...               ...       ...  \n",
       "ZJ016461  0.012799          0.016258  0.016208  \n",
       "ZJ016462  0.036834          0.024097  0.144353  \n",
       "ZJ016473  0.009838          0.009294  0.077781  \n",
       "ZJ016475  0.712818          0.020243  0.017667  \n",
       "ZJ016484  0.894027          0.012205  0.011657  \n",
       "\n",
       "[3298 rows x 8 columns]"
      ],
      "text/html": [
       "<div>\n",
       "<style scoped>\n",
       "    .dataframe tbody tr th:only-of-type {\n",
       "        vertical-align: middle;\n",
       "    }\n",
       "\n",
       "    .dataframe tbody tr th {\n",
       "        vertical-align: top;\n",
       "    }\n",
       "\n",
       "    .dataframe thead th {\n",
       "        text-align: right;\n",
       "    }\n",
       "</style>\n",
       "<table border=\"1\" class=\"dataframe\">\n",
       "  <thead>\n",
       "    <tr style=\"text-align: right;\">\n",
       "      <th></th>\n",
       "      <th>antelope_duiker</th>\n",
       "      <th>bird</th>\n",
       "      <th>blank</th>\n",
       "      <th>civet_genet</th>\n",
       "      <th>hog</th>\n",
       "      <th>leopard</th>\n",
       "      <th>monkey_prosimian</th>\n",
       "      <th>rodent</th>\n",
       "    </tr>\n",
       "  </thead>\n",
       "  <tbody>\n",
       "    <tr>\n",
       "      <th>ZJ000000</th>\n",
       "      <td>0.261158</td>\n",
       "      <td>0.034052</td>\n",
       "      <td>0.443189</td>\n",
       "      <td>0.039167</td>\n",
       "      <td>0.026025</td>\n",
       "      <td>0.011167</td>\n",
       "      <td>0.171751</td>\n",
       "      <td>0.013491</td>\n",
       "    </tr>\n",
       "    <tr>\n",
       "      <th>ZJ000006</th>\n",
       "      <td>0.011377</td>\n",
       "      <td>0.014762</td>\n",
       "      <td>0.021736</td>\n",
       "      <td>0.900344</td>\n",
       "      <td>0.009749</td>\n",
       "      <td>0.007997</td>\n",
       "      <td>0.015474</td>\n",
       "      <td>0.018561</td>\n",
       "    </tr>\n",
       "    <tr>\n",
       "      <th>ZJ000011</th>\n",
       "      <td>0.179968</td>\n",
       "      <td>0.045587</td>\n",
       "      <td>0.527683</td>\n",
       "      <td>0.030746</td>\n",
       "      <td>0.046293</td>\n",
       "      <td>0.026160</td>\n",
       "      <td>0.023071</td>\n",
       "      <td>0.120493</td>\n",
       "    </tr>\n",
       "    <tr>\n",
       "      <th>ZJ000023</th>\n",
       "      <td>0.022834</td>\n",
       "      <td>0.016150</td>\n",
       "      <td>0.039262</td>\n",
       "      <td>0.053575</td>\n",
       "      <td>0.020686</td>\n",
       "      <td>0.803626</td>\n",
       "      <td>0.016281</td>\n",
       "      <td>0.027587</td>\n",
       "    </tr>\n",
       "    <tr>\n",
       "      <th>ZJ000024</th>\n",
       "      <td>0.039760</td>\n",
       "      <td>0.121406</td>\n",
       "      <td>0.706271</td>\n",
       "      <td>0.017395</td>\n",
       "      <td>0.005422</td>\n",
       "      <td>0.009879</td>\n",
       "      <td>0.066069</td>\n",
       "      <td>0.033798</td>\n",
       "    </tr>\n",
       "    <tr>\n",
       "      <th>...</th>\n",
       "      <td>...</td>\n",
       "      <td>...</td>\n",
       "      <td>...</td>\n",
       "      <td>...</td>\n",
       "      <td>...</td>\n",
       "      <td>...</td>\n",
       "      <td>...</td>\n",
       "      <td>...</td>\n",
       "    </tr>\n",
       "    <tr>\n",
       "      <th>ZJ016461</th>\n",
       "      <td>0.897836</td>\n",
       "      <td>0.014940</td>\n",
       "      <td>0.013612</td>\n",
       "      <td>0.013020</td>\n",
       "      <td>0.015327</td>\n",
       "      <td>0.012799</td>\n",
       "      <td>0.016258</td>\n",
       "      <td>0.016208</td>\n",
       "    </tr>\n",
       "    <tr>\n",
       "      <th>ZJ016462</th>\n",
       "      <td>0.149489</td>\n",
       "      <td>0.047808</td>\n",
       "      <td>0.498015</td>\n",
       "      <td>0.027510</td>\n",
       "      <td>0.071894</td>\n",
       "      <td>0.036834</td>\n",
       "      <td>0.024097</td>\n",
       "      <td>0.144353</td>\n",
       "    </tr>\n",
       "    <tr>\n",
       "      <th>ZJ016473</th>\n",
       "      <td>0.010391</td>\n",
       "      <td>0.019615</td>\n",
       "      <td>0.042147</td>\n",
       "      <td>0.818143</td>\n",
       "      <td>0.012790</td>\n",
       "      <td>0.009838</td>\n",
       "      <td>0.009294</td>\n",
       "      <td>0.077781</td>\n",
       "    </tr>\n",
       "    <tr>\n",
       "      <th>ZJ016475</th>\n",
       "      <td>0.012378</td>\n",
       "      <td>0.096607</td>\n",
       "      <td>0.090409</td>\n",
       "      <td>0.013672</td>\n",
       "      <td>0.036207</td>\n",
       "      <td>0.712818</td>\n",
       "      <td>0.020243</td>\n",
       "      <td>0.017667</td>\n",
       "    </tr>\n",
       "    <tr>\n",
       "      <th>ZJ016484</th>\n",
       "      <td>0.015520</td>\n",
       "      <td>0.014627</td>\n",
       "      <td>0.026267</td>\n",
       "      <td>0.016046</td>\n",
       "      <td>0.009653</td>\n",
       "      <td>0.894027</td>\n",
       "      <td>0.012205</td>\n",
       "      <td>0.011657</td>\n",
       "    </tr>\n",
       "  </tbody>\n",
       "</table>\n",
       "<p>3298 rows × 8 columns</p>\n",
       "</div>"
      ]
     },
     "execution_count": 18,
     "metadata": {},
     "output_type": "execute_result"
    }
   ],
   "execution_count": 18
  },
  {
   "metadata": {
    "ExecuteTime": {
     "end_time": "2025-09-17T09:29:16.032229Z",
     "start_time": "2025-09-17T09:29:15.959833Z"
    }
   },
   "cell_type": "code",
   "source": "trainer.early_stopping.__dict__",
   "id": "cea0b1766e02c41c",
   "outputs": [
    {
     "data": {
      "text/plain": [
       "{'patience': 3,\n",
       " 'bigger_is_better': False,\n",
       " 'counter': 0,\n",
       " 'best_score': tensor(1.5365, device='cuda:0'),\n",
       " 'best_score_at': 0,\n",
       " 'tracking': [tensor(1.5365, device='cuda:0')]}"
      ]
     },
     "execution_count": 27,
     "metadata": {},
     "output_type": "execute_result"
    }
   ],
   "execution_count": 27
  }
 ],
 "metadata": {
  "kernelspec": {
   "name": "python3",
   "language": "python",
   "display_name": "Python 3 (ipykernel)"
  }
 },
 "nbformat": 4,
 "nbformat_minor": 5
}