{
 "cells": [
  {
   "metadata": {},
   "cell_type": "code",
   "source": [
    "%load_ext autoreload\n",
    "%autoreload 2"
   ],
   "id": "142b4be12b5356e1",
   "outputs": [],
   "execution_count": null
  },
  {
   "metadata": {},
   "cell_type": "code",
   "source": [
    "import argparse\n",
    "from pathlib import Path\n",
    "\n",
    "import torch.optim\n",
    "from torch.utils.data import DataLoader\n",
    "from torch.utils.hipify.hipify_python import preprocessor\n",
    "from transformers import AutoImageProcessor, AutoModelForImageClassification\n",
    "\n",
    "from lib.checkpoint import CheckpointStorage, set_seed\n",
    "from lib.dataset import ImageDatasetWithLabel\n",
    "from lib.metric import CrossEntropyLoss, AccuracyMetric\n",
    "from lib.trainer import Trainer\n",
    "from lib.training import Training\n",
    "\n",
    "from torchvision.transforms import v2, InterpolationMode\n",
    "\n",
    "import lib.transformations\n",
    "import src.data\n",
    "\n",
    "from train import trainer"
   ],
   "id": "347a99f796fcc797",
   "outputs": [],
   "execution_count": null
  },
  {
   "metadata": {},
   "cell_type": "code",
   "source": "# trainer.training.model",
   "id": "6dddf9752184d509",
   "outputs": [],
   "execution_count": null
  }
 ],
 "metadata": {
  "kernelspec": {
   "name": "python3",
   "language": "python",
   "display_name": "Python 3 (ipykernel)"
  }
 },
 "nbformat": 4,
 "nbformat_minor": 5
}