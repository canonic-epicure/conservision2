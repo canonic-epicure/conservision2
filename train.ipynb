{
 "cells": [
  {
   "metadata": {
    "ExecuteTime": {
     "end_time": "2025-09-16T15:07:17.359771Z",
     "start_time": "2025-09-16T15:07:17.341825Z"
    }
   },
   "cell_type": "code",
   "source": [
    "from torch.utils.data import DataLoader\n",
    "\n",
    "from lib.dataset import ImageDataset\n",
    "%load_ext autoreload\n",
    "%autoreload 2"
   ],
   "id": "142b4be12b5356e1",
   "outputs": [
    {
     "name": "stdout",
     "output_type": "stream",
     "text": [
      "The autoreload extension is already loaded. To reload it, use:\n",
      "  %reload_ext autoreload\n"
     ]
    }
   ],
   "execution_count": 6
  },
  {
   "metadata": {
    "ExecuteTime": {
     "end_time": "2025-09-16T15:07:17.394640Z",
     "start_time": "2025-09-16T15:07:17.376879Z"
    }
   },
   "cell_type": "code",
   "source": [
    "import src.data\n",
    "import lib.transformations\n",
    "\n",
    "from train import trainer, model_preprocessor"
   ],
   "id": "347a99f796fcc797",
   "outputs": [],
   "execution_count": 7
  },
  {
   "metadata": {
    "ExecuteTime": {
     "end_time": "2025-09-16T15:10:13.530918Z",
     "start_time": "2025-09-16T15:09:57.650897Z"
    }
   },
   "cell_type": "code",
   "source": [
    "dataloader_val=DataLoader(\n",
    "    ImageDataset(\n",
    "        data=src.data.x_eval['filepath'],#.sample(n=50),\n",
    "        processor=model_preprocessor, aug=lib.transformations.transform_inference\n",
    "    ),\n",
    "    batch_size=32,\n",
    "    shuffle=False,\n",
    "    num_workers=6\n",
    ")\n",
    "\n",
    "trainer.training.predict_proba(dataloader_val).value_as_df(src.data.species_labels)"
   ],
   "id": "6dddf9752184d509",
   "outputs": [
    {
     "name": "stderr",
     "output_type": "stream",
     "text": [
      "Predicting: 100%|██████████| 104/104 [00:15<00:00,  6.61it/s]\n"
     ]
    },
    {
     "data": {
      "text/plain": [
       "          antelope_duiker      bird     blank  civet_genet       hog  \\\n",
       "ZJ000000         0.267267  0.051749  0.274279     0.039210  0.029677   \n",
       "ZJ000006         0.050463  0.020927  0.056081     0.779628  0.010876   \n",
       "ZJ000011         0.163413  0.060257  0.189359     0.062402  0.338218   \n",
       "ZJ000023         0.035768  0.021378  0.031893     0.063815  0.024593   \n",
       "ZJ000024         0.084490  0.094619  0.200579     0.044963  0.013738   \n",
       "...                   ...       ...       ...          ...       ...   \n",
       "ZJ016461         0.923927  0.012052  0.013969     0.008456  0.008170   \n",
       "ZJ016462         0.141142  0.064153  0.131331     0.075058  0.406577   \n",
       "ZJ016473         0.050930  0.033587  0.071612     0.726565  0.020085   \n",
       "ZJ016475         0.054560  0.154309  0.246042     0.020756  0.055177   \n",
       "ZJ016484         0.017327  0.014212  0.026253     0.017784  0.014423   \n",
       "\n",
       "           leopard  monkey_prosimian    rodent  \n",
       "ZJ000000  0.012155          0.292975  0.032689  \n",
       "ZJ000006  0.019282          0.025065  0.037679  \n",
       "ZJ000011  0.075578          0.079401  0.031372  \n",
       "ZJ000023  0.778899          0.014600  0.029053  \n",
       "ZJ000024  0.049237          0.441059  0.071317  \n",
       "...            ...               ...       ...  \n",
       "ZJ016461  0.008996          0.014368  0.010061  \n",
       "ZJ016462  0.088025          0.065442  0.028270  \n",
       "ZJ016473  0.030451          0.016289  0.050482  \n",
       "ZJ016475  0.369486          0.072734  0.026934  \n",
       "ZJ016484  0.883780          0.014544  0.011677  \n",
       "\n",
       "[3298 rows x 8 columns]"
      ],
      "text/html": [
       "<div>\n",
       "<style scoped>\n",
       "    .dataframe tbody tr th:only-of-type {\n",
       "        vertical-align: middle;\n",
       "    }\n",
       "\n",
       "    .dataframe tbody tr th {\n",
       "        vertical-align: top;\n",
       "    }\n",
       "\n",
       "    .dataframe thead th {\n",
       "        text-align: right;\n",
       "    }\n",
       "</style>\n",
       "<table border=\"1\" class=\"dataframe\">\n",
       "  <thead>\n",
       "    <tr style=\"text-align: right;\">\n",
       "      <th></th>\n",
       "      <th>antelope_duiker</th>\n",
       "      <th>bird</th>\n",
       "      <th>blank</th>\n",
       "      <th>civet_genet</th>\n",
       "      <th>hog</th>\n",
       "      <th>leopard</th>\n",
       "      <th>monkey_prosimian</th>\n",
       "      <th>rodent</th>\n",
       "    </tr>\n",
       "  </thead>\n",
       "  <tbody>\n",
       "    <tr>\n",
       "      <th>ZJ000000</th>\n",
       "      <td>0.267267</td>\n",
       "      <td>0.051749</td>\n",
       "      <td>0.274279</td>\n",
       "      <td>0.039210</td>\n",
       "      <td>0.029677</td>\n",
       "      <td>0.012155</td>\n",
       "      <td>0.292975</td>\n",
       "      <td>0.032689</td>\n",
       "    </tr>\n",
       "    <tr>\n",
       "      <th>ZJ000006</th>\n",
       "      <td>0.050463</td>\n",
       "      <td>0.020927</td>\n",
       "      <td>0.056081</td>\n",
       "      <td>0.779628</td>\n",
       "      <td>0.010876</td>\n",
       "      <td>0.019282</td>\n",
       "      <td>0.025065</td>\n",
       "      <td>0.037679</td>\n",
       "    </tr>\n",
       "    <tr>\n",
       "      <th>ZJ000011</th>\n",
       "      <td>0.163413</td>\n",
       "      <td>0.060257</td>\n",
       "      <td>0.189359</td>\n",
       "      <td>0.062402</td>\n",
       "      <td>0.338218</td>\n",
       "      <td>0.075578</td>\n",
       "      <td>0.079401</td>\n",
       "      <td>0.031372</td>\n",
       "    </tr>\n",
       "    <tr>\n",
       "      <th>ZJ000023</th>\n",
       "      <td>0.035768</td>\n",
       "      <td>0.021378</td>\n",
       "      <td>0.031893</td>\n",
       "      <td>0.063815</td>\n",
       "      <td>0.024593</td>\n",
       "      <td>0.778899</td>\n",
       "      <td>0.014600</td>\n",
       "      <td>0.029053</td>\n",
       "    </tr>\n",
       "    <tr>\n",
       "      <th>ZJ000024</th>\n",
       "      <td>0.084490</td>\n",
       "      <td>0.094619</td>\n",
       "      <td>0.200579</td>\n",
       "      <td>0.044963</td>\n",
       "      <td>0.013738</td>\n",
       "      <td>0.049237</td>\n",
       "      <td>0.441059</td>\n",
       "      <td>0.071317</td>\n",
       "    </tr>\n",
       "    <tr>\n",
       "      <th>...</th>\n",
       "      <td>...</td>\n",
       "      <td>...</td>\n",
       "      <td>...</td>\n",
       "      <td>...</td>\n",
       "      <td>...</td>\n",
       "      <td>...</td>\n",
       "      <td>...</td>\n",
       "      <td>...</td>\n",
       "    </tr>\n",
       "    <tr>\n",
       "      <th>ZJ016461</th>\n",
       "      <td>0.923927</td>\n",
       "      <td>0.012052</td>\n",
       "      <td>0.013969</td>\n",
       "      <td>0.008456</td>\n",
       "      <td>0.008170</td>\n",
       "      <td>0.008996</td>\n",
       "      <td>0.014368</td>\n",
       "      <td>0.010061</td>\n",
       "    </tr>\n",
       "    <tr>\n",
       "      <th>ZJ016462</th>\n",
       "      <td>0.141142</td>\n",
       "      <td>0.064153</td>\n",
       "      <td>0.131331</td>\n",
       "      <td>0.075058</td>\n",
       "      <td>0.406577</td>\n",
       "      <td>0.088025</td>\n",
       "      <td>0.065442</td>\n",
       "      <td>0.028270</td>\n",
       "    </tr>\n",
       "    <tr>\n",
       "      <th>ZJ016473</th>\n",
       "      <td>0.050930</td>\n",
       "      <td>0.033587</td>\n",
       "      <td>0.071612</td>\n",
       "      <td>0.726565</td>\n",
       "      <td>0.020085</td>\n",
       "      <td>0.030451</td>\n",
       "      <td>0.016289</td>\n",
       "      <td>0.050482</td>\n",
       "    </tr>\n",
       "    <tr>\n",
       "      <th>ZJ016475</th>\n",
       "      <td>0.054560</td>\n",
       "      <td>0.154309</td>\n",
       "      <td>0.246042</td>\n",
       "      <td>0.020756</td>\n",
       "      <td>0.055177</td>\n",
       "      <td>0.369486</td>\n",
       "      <td>0.072734</td>\n",
       "      <td>0.026934</td>\n",
       "    </tr>\n",
       "    <tr>\n",
       "      <th>ZJ016484</th>\n",
       "      <td>0.017327</td>\n",
       "      <td>0.014212</td>\n",
       "      <td>0.026253</td>\n",
       "      <td>0.017784</td>\n",
       "      <td>0.014423</td>\n",
       "      <td>0.883780</td>\n",
       "      <td>0.014544</td>\n",
       "      <td>0.011677</td>\n",
       "    </tr>\n",
       "  </tbody>\n",
       "</table>\n",
       "<p>3298 rows × 8 columns</p>\n",
       "</div>"
      ]
     },
     "execution_count": 10,
     "metadata": {},
     "output_type": "execute_result"
    }
   ],
   "execution_count": 10
  },
  {
   "metadata": {
    "ExecuteTime": {
     "end_time": "2025-09-16T15:16:00.760800Z",
     "start_time": "2025-09-16T15:13:42.661404Z"
    }
   },
   "cell_type": "code",
   "source": "trainer.epochs[0]",
   "id": "cea0b1766e02c41c",
   "outputs": [
    {
     "ename": "KeyboardInterrupt",
     "evalue": "",
     "output_type": "error",
     "traceback": [
      "\u001B[31m---------------------------------------------------------------------------\u001B[39m",
      "\u001B[31mKeyboardInterrupt\u001B[39m                         Traceback (most recent call last)",
      "\u001B[36mCell\u001B[39m\u001B[36m \u001B[39m\u001B[32mIn[13]\u001B[39m\u001B[32m, line 1\u001B[39m\n\u001B[32m----> \u001B[39m\u001B[32m1\u001B[39m \u001B[43mtrainer\u001B[49m.epochs[\u001B[32m0\u001B[39m]\n",
      "\u001B[36mFile \u001B[39m\u001B[32m~/.local/share/JetBrains/Toolbox/apps/pycharm/plugins/python-ce/helpers/pydev/_pydevd_bundle/pydevd_frame.py:755\u001B[39m, in \u001B[36mPyDBFrame.trace_dispatch\u001B[39m\u001B[34m(self, frame, event, arg)\u001B[39m\n\u001B[32m    753\u001B[39m \u001B[38;5;66;03m# if thread has a suspend flag, we suspend with a busy wait\u001B[39;00m\n\u001B[32m    754\u001B[39m \u001B[38;5;28;01mif\u001B[39;00m info.pydev_state == STATE_SUSPEND:\n\u001B[32m--> \u001B[39m\u001B[32m755\u001B[39m     \u001B[38;5;28;43mself\u001B[39;49m\u001B[43m.\u001B[49m\u001B[43mdo_wait_suspend\u001B[49m\u001B[43m(\u001B[49m\u001B[43mthread\u001B[49m\u001B[43m,\u001B[49m\u001B[43m \u001B[49m\u001B[43mframe\u001B[49m\u001B[43m,\u001B[49m\u001B[43m \u001B[49m\u001B[43mevent\u001B[49m\u001B[43m,\u001B[49m\u001B[43m \u001B[49m\u001B[43marg\u001B[49m\u001B[43m)\u001B[49m\n\u001B[32m    756\u001B[39m     \u001B[38;5;66;03m# No need to reset frame.f_trace to keep the same trace function.\u001B[39;00m\n\u001B[32m    757\u001B[39m     \u001B[38;5;28;01mreturn\u001B[39;00m \u001B[38;5;28mself\u001B[39m.trace_dispatch\n",
      "\u001B[36mFile \u001B[39m\u001B[32m~/.local/share/JetBrains/Toolbox/apps/pycharm/plugins/python-ce/helpers/pydev/_pydevd_bundle/pydevd_frame.py:412\u001B[39m, in \u001B[36mPyDBFrame.do_wait_suspend\u001B[39m\u001B[34m(self, *args, **kwargs)\u001B[39m\n\u001B[32m    411\u001B[39m \u001B[38;5;28;01mdef\u001B[39;00m\u001B[38;5;250m \u001B[39m\u001B[34mdo_wait_suspend\u001B[39m(\u001B[38;5;28mself\u001B[39m, *args, **kwargs):\n\u001B[32m--> \u001B[39m\u001B[32m412\u001B[39m     \u001B[38;5;28;43mself\u001B[39;49m\u001B[43m.\u001B[49m\u001B[43m_args\u001B[49m\u001B[43m[\u001B[49m\u001B[32;43m0\u001B[39;49m\u001B[43m]\u001B[49m\u001B[43m.\u001B[49m\u001B[43mdo_wait_suspend\u001B[49m\u001B[43m(\u001B[49m\u001B[43m*\u001B[49m\u001B[43margs\u001B[49m\u001B[43m,\u001B[49m\u001B[43m \u001B[49m\u001B[43m*\u001B[49m\u001B[43m*\u001B[49m\u001B[43mkwargs\u001B[49m\u001B[43m)\u001B[49m\n",
      "\u001B[36mFile \u001B[39m\u001B[32m~/.local/share/JetBrains/Toolbox/apps/pycharm/plugins/python-ce/helpers/pydev/pydevd.py:1196\u001B[39m, in \u001B[36mPyDB.do_wait_suspend\u001B[39m\u001B[34m(self, thread, frame, event, arg, send_suspend_message, is_unhandled_exception)\u001B[39m\n\u001B[32m   1193\u001B[39m         from_this_thread.append(frame_id)\n\u001B[32m   1195\u001B[39m \u001B[38;5;28;01mwith\u001B[39;00m \u001B[38;5;28mself\u001B[39m._threads_suspended_single_notification.notify_thread_suspended(thread_id, stop_reason):\n\u001B[32m-> \u001B[39m\u001B[32m1196\u001B[39m     \u001B[38;5;28;43mself\u001B[39;49m\u001B[43m.\u001B[49m\u001B[43m_do_wait_suspend\u001B[49m\u001B[43m(\u001B[49m\u001B[43mthread\u001B[49m\u001B[43m,\u001B[49m\u001B[43m \u001B[49m\u001B[43mframe\u001B[49m\u001B[43m,\u001B[49m\u001B[43m \u001B[49m\u001B[43mevent\u001B[49m\u001B[43m,\u001B[49m\u001B[43m \u001B[49m\u001B[43marg\u001B[49m\u001B[43m,\u001B[49m\u001B[43m \u001B[49m\u001B[43msuspend_type\u001B[49m\u001B[43m,\u001B[49m\u001B[43m \u001B[49m\u001B[43mfrom_this_thread\u001B[49m\u001B[43m)\u001B[49m\n",
      "\u001B[36mFile \u001B[39m\u001B[32m~/.local/share/JetBrains/Toolbox/apps/pycharm/plugins/python-ce/helpers/pydev/pydevd.py:1211\u001B[39m, in \u001B[36mPyDB._do_wait_suspend\u001B[39m\u001B[34m(self, thread, frame, event, arg, suspend_type, from_this_thread)\u001B[39m\n\u001B[32m   1208\u001B[39m             \u001B[38;5;28mself\u001B[39m._call_mpl_hook()\n\u001B[32m   1210\u001B[39m         \u001B[38;5;28mself\u001B[39m.process_internal_commands()\n\u001B[32m-> \u001B[39m\u001B[32m1211\u001B[39m         \u001B[43mtime\u001B[49m\u001B[43m.\u001B[49m\u001B[43msleep\u001B[49m\u001B[43m(\u001B[49m\u001B[32;43m0.01\u001B[39;49m\u001B[43m)\u001B[49m\n\u001B[32m   1213\u001B[39m \u001B[38;5;28mself\u001B[39m.cancel_async_evaluation(get_current_thread_id(thread), \u001B[38;5;28mstr\u001B[39m(\u001B[38;5;28mid\u001B[39m(frame)))\n\u001B[32m   1215\u001B[39m \u001B[38;5;66;03m# process any stepping instructions\u001B[39;00m\n",
      "\u001B[31mKeyboardInterrupt\u001B[39m: "
     ]
    }
   ],
   "execution_count": 13
  }
 ],
 "metadata": {
  "kernelspec": {
   "name": "python3",
   "language": "python",
   "display_name": "Python 3 (ipykernel)"
  }
 },
 "nbformat": 4,
 "nbformat_minor": 5
}